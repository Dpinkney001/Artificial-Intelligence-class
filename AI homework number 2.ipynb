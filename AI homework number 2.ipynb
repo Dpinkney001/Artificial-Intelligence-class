{
 "cells": [
  {
   "cell_type": "markdown",
   "metadata": {},
   "source": [
    "Duvall Pinkney\n",
    "13128408\n",
    "2/8/2021 Spring 2021\n",
    "Week 2 Homework\n",
    "Build a linear model (height = m * year + b) to escribe the trend of height increase for United Kingdom \n",
    "between 1900 and 1980. \n",
    "Compute the mean square error of your model, and display the model line together with the data points."
   ]
  },
  {
   "cell_type": "code",
   "execution_count": 1,
   "metadata": {},
   "outputs": [],
   "source": [
    "import numpy as np  # scientific computation\n",
    "import pandas as pd  # data handling\n",
    "import matplotlib.pyplot as plt  # plotting\n",
    "# The following \"magic command\" allows figures to be displayed automatically in notebook\n",
    "%matplotlib inline"
   ]
  },
  {
   "cell_type": "code",
   "execution_count": 2,
   "metadata": {},
   "outputs": [],
   "source": [
    "height_data = pd.read_csv(\"average-height-of-men-for-selected-countries.csv\")"
   ]
  },
  {
   "cell_type": "code",
   "execution_count": 15,
   "metadata": {},
   "outputs": [
    {
     "data": {
      "text/html": [
       "<div>\n",
       "<style scoped>\n",
       "    .dataframe tbody tr th:only-of-type {\n",
       "        vertical-align: middle;\n",
       "    }\n",
       "\n",
       "    .dataframe tbody tr th {\n",
       "        vertical-align: top;\n",
       "    }\n",
       "\n",
       "    .dataframe thead th {\n",
       "        text-align: right;\n",
       "    }\n",
       "</style>\n",
       "<table border=\"1\" class=\"dataframe\">\n",
       "  <thead>\n",
       "    <tr style=\"text-align: right;\">\n",
       "      <th></th>\n",
       "      <th>Entity</th>\n",
       "      <th>Code</th>\n",
       "      <th>Year</th>\n",
       "      <th>Human Height (University of Tuebingen (2015))</th>\n",
       "    </tr>\n",
       "  </thead>\n",
       "  <tbody>\n",
       "    <tr>\n",
       "      <th>0</th>\n",
       "      <td>Afghanistan</td>\n",
       "      <td>AFG</td>\n",
       "      <td>1870</td>\n",
       "      <td>168.4</td>\n",
       "    </tr>\n",
       "    <tr>\n",
       "      <th>1</th>\n",
       "      <td>Afghanistan</td>\n",
       "      <td>AFG</td>\n",
       "      <td>1880</td>\n",
       "      <td>165.7</td>\n",
       "    </tr>\n",
       "    <tr>\n",
       "      <th>2</th>\n",
       "      <td>Afghanistan</td>\n",
       "      <td>AFG</td>\n",
       "      <td>1930</td>\n",
       "      <td>166.8</td>\n",
       "    </tr>\n",
       "    <tr>\n",
       "      <th>3</th>\n",
       "      <td>Albania</td>\n",
       "      <td>ALB</td>\n",
       "      <td>1880</td>\n",
       "      <td>170.1</td>\n",
       "    </tr>\n",
       "    <tr>\n",
       "      <th>4</th>\n",
       "      <td>Albania</td>\n",
       "      <td>ALB</td>\n",
       "      <td>1890</td>\n",
       "      <td>169.8</td>\n",
       "    </tr>\n",
       "  </tbody>\n",
       "</table>\n",
       "</div>"
      ],
      "text/plain": [
       "        Entity Code  Year  Human Height (University of Tuebingen (2015))\n",
       "0  Afghanistan  AFG  1870                                          168.4\n",
       "1  Afghanistan  AFG  1880                                          165.7\n",
       "2  Afghanistan  AFG  1930                                          166.8\n",
       "3      Albania  ALB  1880                                          170.1\n",
       "4      Albania  ALB  1890                                          169.8"
      ]
     },
     "execution_count": 15,
     "metadata": {},
     "output_type": "execute_result"
    }
   ],
   "source": [
    "height_data.head()"
   ]
  },
  {
   "cell_type": "code",
   "execution_count": 81,
   "metadata": {},
   "outputs": [
    {
     "name": "stdout",
     "output_type": "stream",
     "text": [
      "0       False\n",
      "1       False\n",
      "2       False\n",
      "3       False\n",
      "4       False\n",
      "        ...  \n",
      "1245    False\n",
      "1246    False\n",
      "1247    False\n",
      "1248    False\n",
      "1249    False\n",
      "Length: 1250, dtype: bool\n"
     ]
    },
    {
     "data": {
      "text/html": [
       "<div>\n",
       "<style scoped>\n",
       "    .dataframe tbody tr th:only-of-type {\n",
       "        vertical-align: middle;\n",
       "    }\n",
       "\n",
       "    .dataframe tbody tr th {\n",
       "        vertical-align: top;\n",
       "    }\n",
       "\n",
       "    .dataframe thead th {\n",
       "        text-align: right;\n",
       "    }\n",
       "</style>\n",
       "<table border=\"1\" class=\"dataframe\">\n",
       "  <thead>\n",
       "    <tr style=\"text-align: right;\">\n",
       "      <th></th>\n",
       "      <th>Entity</th>\n",
       "      <th>Code</th>\n",
       "      <th>Year</th>\n",
       "      <th>Human Height (University of Tuebingen (2015))</th>\n",
       "    </tr>\n",
       "  </thead>\n",
       "  <tbody>\n",
       "    <tr>\n",
       "      <th>1185</th>\n",
       "      <td>United Kingdom</td>\n",
       "      <td>GBR</td>\n",
       "      <td>1900</td>\n",
       "      <td>169.4</td>\n",
       "    </tr>\n",
       "    <tr>\n",
       "      <th>1186</th>\n",
       "      <td>United Kingdom</td>\n",
       "      <td>GBR</td>\n",
       "      <td>1910</td>\n",
       "      <td>170.9</td>\n",
       "    </tr>\n",
       "    <tr>\n",
       "      <th>1187</th>\n",
       "      <td>United Kingdom</td>\n",
       "      <td>GBR</td>\n",
       "      <td>1920</td>\n",
       "      <td>171.0</td>\n",
       "    </tr>\n",
       "    <tr>\n",
       "      <th>1188</th>\n",
       "      <td>United Kingdom</td>\n",
       "      <td>GBR</td>\n",
       "      <td>1930</td>\n",
       "      <td>173.9</td>\n",
       "    </tr>\n",
       "    <tr>\n",
       "      <th>1189</th>\n",
       "      <td>United Kingdom</td>\n",
       "      <td>GBR</td>\n",
       "      <td>1940</td>\n",
       "      <td>174.9</td>\n",
       "    </tr>\n",
       "    <tr>\n",
       "      <th>1190</th>\n",
       "      <td>United Kingdom</td>\n",
       "      <td>GBR</td>\n",
       "      <td>1950</td>\n",
       "      <td>176.0</td>\n",
       "    </tr>\n",
       "    <tr>\n",
       "      <th>1191</th>\n",
       "      <td>United Kingdom</td>\n",
       "      <td>GBR</td>\n",
       "      <td>1960</td>\n",
       "      <td>176.9</td>\n",
       "    </tr>\n",
       "    <tr>\n",
       "      <th>1192</th>\n",
       "      <td>United Kingdom</td>\n",
       "      <td>GBR</td>\n",
       "      <td>1970</td>\n",
       "      <td>177.1</td>\n",
       "    </tr>\n",
       "    <tr>\n",
       "      <th>1193</th>\n",
       "      <td>United Kingdom</td>\n",
       "      <td>GBR</td>\n",
       "      <td>1980</td>\n",
       "      <td>176.8</td>\n",
       "    </tr>\n",
       "  </tbody>\n",
       "</table>\n",
       "</div>"
      ],
      "text/plain": [
       "              Entity Code  Year  Human Height (University of Tuebingen (2015))\n",
       "1185  United Kingdom  GBR  1900                                          169.4\n",
       "1186  United Kingdom  GBR  1910                                          170.9\n",
       "1187  United Kingdom  GBR  1920                                          171.0\n",
       "1188  United Kingdom  GBR  1930                                          173.9\n",
       "1189  United Kingdom  GBR  1940                                          174.9\n",
       "1190  United Kingdom  GBR  1950                                          176.0\n",
       "1191  United Kingdom  GBR  1960                                          176.9\n",
       "1192  United Kingdom  GBR  1970                                          177.1\n",
       "1193  United Kingdom  GBR  1980                                          176.8"
      ]
     },
     "execution_count": 81,
     "metadata": {},
     "output_type": "execute_result"
    }
   ],
   "source": [
    "\n",
    "region_filter = (height_data[\"Entity\"] == \"United Kingdom\") & (height_data['Year'] >= 1900) & (height_data['Year'] <= 1990)\n",
    "print(region_filter)\n",
    "data = height_data[region_filter]\n",
    "data.head()\n",
    "data"
   ]
  },
  {
   "cell_type": "code",
   "execution_count": 38,
   "metadata": {},
   "outputs": [],
   "source": [
    "def height_model_algorithm(m, year, height):\n",
    "   \n",
    "    #height = m * year + b\n",
    "    b = height - m * year\n",
    "    return b"
   ]
  },
  {
   "cell_type": "code",
   "execution_count": 23,
   "metadata": {},
   "outputs": [],
   "source": [
    "def slope_algo(year1, year2, height1, height2):\n",
    "    m = (year2 - year1)/(height2 - height1)\n",
    "    return m"
   ]
  },
  {
   "cell_type": "code",
   "execution_count": 24,
   "metadata": {},
   "outputs": [
    {
     "ename": "SyntaxError",
     "evalue": "invalid syntax (<ipython-input-24-f37f06342756>, line 2)",
     "output_type": "error",
     "traceback": [
      "\u001b[1;36m  File \u001b[1;32m\"<ipython-input-24-f37f06342756>\"\u001b[1;36m, line \u001b[1;32m2\u001b[0m\n\u001b[1;33m    mse =\u001b[0m\n\u001b[1;37m         ^\u001b[0m\n\u001b[1;31mSyntaxError\u001b[0m\u001b[1;31m:\u001b[0m invalid syntax\n"
     ]
    }
   ],
   "source": [
    "def mse_algo():\n",
    "    mse =\n",
    "    return mse"
   ]
  },
  {
   "cell_type": "code",
   "execution_count": 25,
   "metadata": {},
   "outputs": [
    {
     "name": "stdout",
     "output_type": "stream",
     "text": [
      "6.666666666666667\n"
     ]
    }
   ],
   "source": [
    "first_slope = slope_algo(1900,1910,169.4,170.9)\n",
    "print(first_slope)\n"
   ]
  },
  {
   "cell_type": "code",
   "execution_count": 26,
   "metadata": {},
   "outputs": [
    {
     "name": "stdout",
     "output_type": "stream",
     "text": [
      "50.00000000000284\n"
     ]
    }
   ],
   "source": [
    "second_slope = slope_algo(1910,1920,170.9,171.1)\n",
    "print(second_slope)"
   ]
  },
  {
   "cell_type": "code",
   "execution_count": 27,
   "metadata": {},
   "outputs": [
    {
     "name": "stdout",
     "output_type": "stream",
     "text": [
      "10.810810810810802\n"
     ]
    }
   ],
   "source": [
    "\n",
    "# Calculate the average increase per year between 1900 and 1980\n",
    "# Two points: (1900, 170.0) and (1980, 179.0)\n",
    "# What is the slope of the line connecting these two points?\n",
    "\n",
    "slope = slope_algo(1900,1980,169.4,176.8)\n",
    "print(slope)"
   ]
  },
  {
   "cell_type": "code",
   "execution_count": 34,
   "metadata": {},
   "outputs": [
    {
     "data": {
      "text/plain": [
       "[<matplotlib.lines.Line2D at 0x20c10301bc8>]"
      ]
     },
     "execution_count": 34,
     "metadata": {},
     "output_type": "execute_result"
    },
    {
     "data": {
      "image/png": "[encoded data removed]",
      "text/plain": [
       "<Figure size 432x288 with 1 Axes>"
      ]
     },
     "metadata": {
      "needs_background": "light"
     },
     "output_type": "display_data"
    }
   ],
   "source": [
    "height = data['Human Height (University of Tuebingen (2015))']\n",
    "year = data['Year']\n",
    "plt.plot(year, height, 'g.-')"
   ]
  },
  {
   "cell_type": "code",
   "execution_count": 40,
   "metadata": {},
   "outputs": [
    {
     "name": "stdout",
     "output_type": "stream",
     "text": [
      "Y-Intercept: -20941.11111111098\n"
     ]
    }
   ],
   "source": [
    "# Let the slope be the average rate of increase.\n",
    "# If the model is height = m * year + b, \n",
    "# find the value of b so that point (1900, 170.0) lies on the line.\n",
    "height = 170\n",
    "year = 1900\n",
    "m = slope_algo(year, 1910, height, 170.9)\n",
    "b = height_model_algorithm(m, year, height)\n",
    "print(\"Y-Intercept:\", b)"
   ]
  },
  {
   "cell_type": "code",
   "execution_count": 45,
   "metadata": {},
   "outputs": [
    {
     "data": {
      "text/plain": [
       "[<matplotlib.lines.Line2D at 0x20c1065ca08>]"
      ]
     },
     "execution_count": 45,
     "metadata": {},
     "output_type": "execute_result"
    },
    {
     "data": {
      "image/png": "[encoded data removed]",
      "text/plain": [
       "<Figure size 432x288 with 1 Axes>"
      ]
     },
     "metadata": {
      "needs_background": "light"
     },
     "output_type": "display_data"
    }
   ],
   "source": [
    "# Plot the model line.\n",
    "years = np.array([1900, 1940, 1980])\n",
    "heights = 0.1125 * years - 43.75\n",
    "\n",
    "plt.plot(years, heights, 'r-')\n",
    "\n",
    "# show the data points on this plot\n",
    "plt.plot(data.index, data['Human Height (University of Tuebingen (2015))'], 'g.')"
   ]
  },
  {
   "cell_type": "code",
   "execution_count": 44,
   "metadata": {},
   "outputs": [
    {
     "ename": "KeyError",
     "evalue": "'Height(cm)'",
     "output_type": "error",
     "traceback": [
      "\u001b[1;31m---------------------------------------------------------------------------\u001b[0m",
      "\u001b[1;31mKeyError\u001b[0m                                  Traceback (most recent call last)",
      "\u001b[1;32m~\\Anaconda3\\lib\\site-packages\\pandas\\core\\indexes\\base.py\u001b[0m in \u001b[0;36mget_loc\u001b[1;34m(self, key, method, tolerance)\u001b[0m\n\u001b[0;32m   2896\u001b[0m             \u001b[1;32mtry\u001b[0m\u001b[1;33m:\u001b[0m\u001b[1;33m\u001b[0m\u001b[1;33m\u001b[0m\u001b[0m\n\u001b[1;32m-> 2897\u001b[1;33m                 \u001b[1;32mreturn\u001b[0m \u001b[0mself\u001b[0m\u001b[1;33m.\u001b[0m\u001b[0m_engine\u001b[0m\u001b[1;33m.\u001b[0m\u001b[0mget_loc\u001b[0m\u001b[1;33m(\u001b[0m\u001b[0mkey\u001b[0m\u001b[1;33m)\u001b[0m\u001b[1;33m\u001b[0m\u001b[1;33m\u001b[0m\u001b[0m\n\u001b[0m\u001b[0;32m   2898\u001b[0m             \u001b[1;32mexcept\u001b[0m \u001b[0mKeyError\u001b[0m\u001b[1;33m:\u001b[0m\u001b[1;33m\u001b[0m\u001b[1;33m\u001b[0m\u001b[0m\n",
      "\u001b[1;32mpandas/_libs/index.pyx\u001b[0m in \u001b[0;36mpandas._libs.index.IndexEngine.get_loc\u001b[1;34m()\u001b[0m\n",
      "\u001b[1;32mpandas/_libs/index.pyx\u001b[0m in \u001b[0;36mpandas._libs.index.IndexEngine.get_loc\u001b[1;34m()\u001b[0m\n",
      "\u001b[1;32mpandas/_libs/hashtable_class_helper.pxi\u001b[0m in \u001b[0;36mpandas._libs.hashtable.PyObjectHashTable.get_item\u001b[1;34m()\u001b[0m\n",
      "\u001b[1;32mpandas/_libs/hashtable_class_helper.pxi\u001b[0m in \u001b[0;36mpandas._libs.hashtable.PyObjectHashTable.get_item\u001b[1;34m()\u001b[0m\n",
      "\u001b[1;31mKeyError\u001b[0m: 'Height(cm)'",
      "\nDuring handling of the above exception, another exception occurred:\n",
      "\u001b[1;31mKeyError\u001b[0m                                  Traceback (most recent call last)",
      "\u001b[1;32m<ipython-input-44-271a60255721>\u001b[0m in \u001b[0;36m<module>\u001b[1;34m\u001b[0m\n\u001b[0;32m      3\u001b[0m \u001b[1;33m\u001b[0m\u001b[0m\n\u001b[0;32m      4\u001b[0m \u001b[0mplt\u001b[0m\u001b[1;33m.\u001b[0m\u001b[0mplot\u001b[0m\u001b[1;33m(\u001b[0m\u001b[0myears\u001b[0m\u001b[1;33m,\u001b[0m \u001b[0mheights\u001b[0m\u001b[1;33m,\u001b[0m \u001b[1;34m'r-'\u001b[0m\u001b[1;33m)\u001b[0m\u001b[1;33m\u001b[0m\u001b[1;33m\u001b[0m\u001b[0m\n\u001b[1;32m----> 5\u001b[1;33m \u001b[0mplt\u001b[0m\u001b[1;33m.\u001b[0m\u001b[0mplot\u001b[0m\u001b[1;33m(\u001b[0m\u001b[0mdata\u001b[0m\u001b[1;33m.\u001b[0m\u001b[0mindex\u001b[0m\u001b[1;33m,\u001b[0m \u001b[0mdata\u001b[0m\u001b[1;33m[\u001b[0m\u001b[1;34m'Height(cm)'\u001b[0m\u001b[1;33m]\u001b[0m\u001b[1;33m,\u001b[0m \u001b[1;34m'g.'\u001b[0m\u001b[1;33m)\u001b[0m\u001b[1;33m\u001b[0m\u001b[1;33m\u001b[0m\u001b[0m\n\u001b[0m\u001b[0;32m      6\u001b[0m \u001b[1;33m\u001b[0m\u001b[0m\n\u001b[0;32m      7\u001b[0m \u001b[1;31m# plot the second line on this graph\u001b[0m\u001b[1;33m\u001b[0m\u001b[1;33m\u001b[0m\u001b[1;33m\u001b[0m\u001b[0m\n",
      "\u001b[1;32m~\\Anaconda3\\lib\\site-packages\\pandas\\core\\frame.py\u001b[0m in \u001b[0;36m__getitem__\u001b[1;34m(self, key)\u001b[0m\n\u001b[0;32m   2993\u001b[0m             \u001b[1;32mif\u001b[0m \u001b[0mself\u001b[0m\u001b[1;33m.\u001b[0m\u001b[0mcolumns\u001b[0m\u001b[1;33m.\u001b[0m\u001b[0mnlevels\u001b[0m \u001b[1;33m>\u001b[0m \u001b[1;36m1\u001b[0m\u001b[1;33m:\u001b[0m\u001b[1;33m\u001b[0m\u001b[1;33m\u001b[0m\u001b[0m\n\u001b[0;32m   2994\u001b[0m                 \u001b[1;32mreturn\u001b[0m \u001b[0mself\u001b[0m\u001b[1;33m.\u001b[0m\u001b[0m_getitem_multilevel\u001b[0m\u001b[1;33m(\u001b[0m\u001b[0mkey\u001b[0m\u001b[1;33m)\u001b[0m\u001b[1;33m\u001b[0m\u001b[1;33m\u001b[0m\u001b[0m\n\u001b[1;32m-> 2995\u001b[1;33m             \u001b[0mindexer\u001b[0m \u001b[1;33m=\u001b[0m \u001b[0mself\u001b[0m\u001b[1;33m.\u001b[0m\u001b[0mcolumns\u001b[0m\u001b[1;33m.\u001b[0m\u001b[0mget_loc\u001b[0m\u001b[1;33m(\u001b[0m\u001b[0mkey\u001b[0m\u001b[1;33m)\u001b[0m\u001b[1;33m\u001b[0m\u001b[1;33m\u001b[0m\u001b[0m\n\u001b[0m\u001b[0;32m   2996\u001b[0m             \u001b[1;32mif\u001b[0m \u001b[0mis_integer\u001b[0m\u001b[1;33m(\u001b[0m\u001b[0mindexer\u001b[0m\u001b[1;33m)\u001b[0m\u001b[1;33m:\u001b[0m\u001b[1;33m\u001b[0m\u001b[1;33m\u001b[0m\u001b[0m\n\u001b[0;32m   2997\u001b[0m                 \u001b[0mindexer\u001b[0m \u001b[1;33m=\u001b[0m \u001b[1;33m[\u001b[0m\u001b[0mindexer\u001b[0m\u001b[1;33m]\u001b[0m\u001b[1;33m\u001b[0m\u001b[1;33m\u001b[0m\u001b[0m\n",
      "\u001b[1;32m~\\Anaconda3\\lib\\site-packages\\pandas\\core\\indexes\\base.py\u001b[0m in \u001b[0;36mget_loc\u001b[1;34m(self, key, method, tolerance)\u001b[0m\n\u001b[0;32m   2897\u001b[0m                 \u001b[1;32mreturn\u001b[0m \u001b[0mself\u001b[0m\u001b[1;33m.\u001b[0m\u001b[0m_engine\u001b[0m\u001b[1;33m.\u001b[0m\u001b[0mget_loc\u001b[0m\u001b[1;33m(\u001b[0m\u001b[0mkey\u001b[0m\u001b[1;33m)\u001b[0m\u001b[1;33m\u001b[0m\u001b[1;33m\u001b[0m\u001b[0m\n\u001b[0;32m   2898\u001b[0m             \u001b[1;32mexcept\u001b[0m \u001b[0mKeyError\u001b[0m\u001b[1;33m:\u001b[0m\u001b[1;33m\u001b[0m\u001b[1;33m\u001b[0m\u001b[0m\n\u001b[1;32m-> 2899\u001b[1;33m                 \u001b[1;32mreturn\u001b[0m \u001b[0mself\u001b[0m\u001b[1;33m.\u001b[0m\u001b[0m_engine\u001b[0m\u001b[1;33m.\u001b[0m\u001b[0mget_loc\u001b[0m\u001b[1;33m(\u001b[0m\u001b[0mself\u001b[0m\u001b[1;33m.\u001b[0m\u001b[0m_maybe_cast_indexer\u001b[0m\u001b[1;33m(\u001b[0m\u001b[0mkey\u001b[0m\u001b[1;33m)\u001b[0m\u001b[1;33m)\u001b[0m\u001b[1;33m\u001b[0m\u001b[1;33m\u001b[0m\u001b[0m\n\u001b[0m\u001b[0;32m   2900\u001b[0m         \u001b[0mindexer\u001b[0m \u001b[1;33m=\u001b[0m \u001b[0mself\u001b[0m\u001b[1;33m.\u001b[0m\u001b[0mget_indexer\u001b[0m\u001b[1;33m(\u001b[0m\u001b[1;33m[\u001b[0m\u001b[0mkey\u001b[0m\u001b[1;33m]\u001b[0m\u001b[1;33m,\u001b[0m \u001b[0mmethod\u001b[0m\u001b[1;33m=\u001b[0m\u001b[0mmethod\u001b[0m\u001b[1;33m,\u001b[0m \u001b[0mtolerance\u001b[0m\u001b[1;33m=\u001b[0m\u001b[0mtolerance\u001b[0m\u001b[1;33m)\u001b[0m\u001b[1;33m\u001b[0m\u001b[1;33m\u001b[0m\u001b[0m\n\u001b[0;32m   2901\u001b[0m         \u001b[1;32mif\u001b[0m \u001b[0mindexer\u001b[0m\u001b[1;33m.\u001b[0m\u001b[0mndim\u001b[0m \u001b[1;33m>\u001b[0m \u001b[1;36m1\u001b[0m \u001b[1;32mor\u001b[0m \u001b[0mindexer\u001b[0m\u001b[1;33m.\u001b[0m\u001b[0msize\u001b[0m \u001b[1;33m>\u001b[0m \u001b[1;36m1\u001b[0m\u001b[1;33m:\u001b[0m\u001b[1;33m\u001b[0m\u001b[1;33m\u001b[0m\u001b[0m\n",
      "\u001b[1;32mpandas/_libs/index.pyx\u001b[0m in \u001b[0;36mpandas._libs.index.IndexEngine.get_loc\u001b[1;34m()\u001b[0m\n",
      "\u001b[1;32mpandas/_libs/index.pyx\u001b[0m in \u001b[0;36mpandas._libs.index.IndexEngine.get_loc\u001b[1;34m()\u001b[0m\n",
      "\u001b[1;32mpandas/_libs/hashtable_class_helper.pxi\u001b[0m in \u001b[0;36mpandas._libs.hashtable.PyObjectHashTable.get_item\u001b[1;34m()\u001b[0m\n",
      "\u001b[1;32mpandas/_libs/hashtable_class_helper.pxi\u001b[0m in \u001b[0;36mpandas._libs.hashtable.PyObjectHashTable.get_item\u001b[1;34m()\u001b[0m\n",
      "\u001b[1;31mKeyError\u001b[0m: 'Height(cm)'"
     ]
    },
    {
     "data": {
      "image/png": "[encoded data removed]",
      "text/plain": [
       "<Figure size 432x288 with 1 Axes>"
      ]
     },
     "metadata": {
      "needs_background": "light"
     },
     "output_type": "display_data"
    }
   ],
   "source": [
    "m2 = 0.112\n",
    "b2 = -42.2\n",
    "\n",
    "plt.plot(years, heights, 'r-')\n",
    "plt.plot(data.index, data['Height(cm)'], 'g.')\n",
    "\n",
    "# plot the second line on this graph\n",
    "heights2 = m2 * years + b2 \n",
    "plt.plot(years, heights2, 'b-')"
   ]
  },
  {
   "attachments": {
    "image.png": {
     "image/png": "[encoded data removed]"
    }
   },
   "cell_type": "markdown",
   "metadata": {},
   "source": [
    "![image.png](attachment:image.png)"
   ]
  },
  {
   "cell_type": "code",
   "execution_count": 63,
   "metadata": {},
   "outputs": [
    {
     "name": "stdout",
     "output_type": "stream",
     "text": [
      "Predicton for 1900: 169.39999999999964\n",
      "Error for 1900: 1.3651711281392742e-25\n"
     ]
    }
   ],
   "source": [
    "# Calculate errors for each year\n",
    "# Example: Calculate the error for 1900\n",
    "m = slope_algo(1900,1910,169.4,170.9)\n",
    "b = height_model_algorithm(m, 1900, 169.4)\n",
    "\n",
    "# For the data point about 1900:\n",
    "x = 1900\n",
    "y = 169.4\n",
    "\n",
    "# Prediction of the model for 1930:\n",
    "prediction = m * x + b\n",
    "print(\"Predicton for 1900:\", prediction)\n",
    "\n",
    "# Squared Error for 1900:\n",
    "error = (prediction - y) ** 2\n",
    "print(\"Error for 1900:\", error)\n",
    "errors = error"
   ]
  },
  {
   "cell_type": "code",
   "execution_count": 64,
   "metadata": {
    "scrolled": true
   },
   "outputs": [
    {
     "name": "stdout",
     "output_type": "stream",
     "text": [
      "Predicton for 1910: 170.89999999999418\n",
      "Error for 1910: 0.010000000001164154\n"
     ]
    }
   ],
   "source": [
    "# Example: Calculate the error for 1910\n",
    "m = slope_algo(1910,1920,170.9,171.0)\n",
    "b = height_model_algorithm(m, 1910, 170.9)\n",
    "\n",
    "# For the data point about 1910:\n",
    "x = 1910\n",
    "y = 171.0\n",
    "\n",
    "# Prediction of the model for 1910:\n",
    "prediction = m * x + b\n",
    "print(\"Predicton for 1910:\", prediction)\n",
    "\n",
    "# Squared Error for 1910:\n",
    "error = (prediction - y) ** 2\n",
    "print(\"Error for 1910:\", error)\n",
    "errors = error"
   ]
  },
  {
   "cell_type": "code",
   "execution_count": 65,
   "metadata": {},
   "outputs": [
    {
     "name": "stdout",
     "output_type": "stream",
     "text": [
      "Predicton for 1920: 171.0\n",
      "Error for 1920: 0.0\n"
     ]
    }
   ],
   "source": [
    "# Example: Calculate the error for 1920\n",
    "m = slope_algo(1920,1930,171.0,173.9)\n",
    "b = height_model_algorithm(m, 1920,171.0)\n",
    "\n",
    "# For the data point about 1920:\n",
    "x = 1920\n",
    "y = 171.0\n",
    "\n",
    "# Prediction of the model for 1920:\n",
    "prediction = m * x + b\n",
    "print(\"Predicton for 1920:\", prediction)\n",
    "\n",
    "# Squared Error for 1920:\n",
    "error = (prediction - y) ** 2\n",
    "print(\"Error for 1920:\", error)\n",
    "errors = error"
   ]
  },
  {
   "cell_type": "code",
   "execution_count": 66,
   "metadata": {},
   "outputs": [
    {
     "name": "stdout",
     "output_type": "stream",
     "text": [
      "Predicton for 1930: 173.90000000000146\n",
      "Error for 1930: 2.101071067627368e-24\n"
     ]
    }
   ],
   "source": [
    "# Example: Calculate the error for 1930\n",
    "m = slope_algo(1930,1940,173.9,174.9)\n",
    "b = height_model_algorithm(m, 1930,173.9)\n",
    "\n",
    "# For the data point about 1930:\n",
    "x = 1930\n",
    "y = 173.9\n",
    "\n",
    "# Prediction of the model for 1930:\n",
    "prediction = m * x + b\n",
    "print(\"Predicton for 1930:\", prediction)\n",
    "\n",
    "# Squared Error for 1930:\n",
    "error = (prediction - y) ** 2\n",
    "print(\"Error for 1930:\", error)\n",
    "errors = error"
   ]
  },
  {
   "cell_type": "code",
   "execution_count": 67,
   "metadata": {},
   "outputs": [
    {
     "name": "stdout",
     "output_type": "stream",
     "text": [
      "Predicton for 1940: 174.90000000000146\n",
      "Error for 1940: 2.101071067627368e-24\n"
     ]
    }
   ],
   "source": [
    "# Example: Calculate the error for 1940\n",
    "m = slope_algo(1940,1950,174.9,176.0)\n",
    "b = height_model_algorithm(m, 1940,174.9)\n",
    "\n",
    "# For the data point about 1940:\n",
    "x = 1940\n",
    "y = 174.9\n",
    "\n",
    "# Prediction of the model for 1940:\n",
    "prediction = m * x + b\n",
    "print(\"Predicton for 1940:\", prediction)\n",
    "\n",
    "# Squared Error for 1940:\n",
    "error = (prediction - y) ** 2\n",
    "print(\"Error for 1940:\", error)\n",
    "errors = error"
   ]
  },
  {
   "cell_type": "code",
   "execution_count": 68,
   "metadata": {},
   "outputs": [
    {
     "name": "stdout",
     "output_type": "stream",
     "text": [
      "Predicton for 1950: 176.0\n",
      "Error for 1950: 0.0\n"
     ]
    }
   ],
   "source": [
    "# Example: Calculate the error for 1950\n",
    "m = slope_algo(1950,1960,176.0,176.9)\n",
    "b = height_model_algorithm(m, 1950,176.0)\n",
    "\n",
    "# For the data point about 1950:\n",
    "x = 1950\n",
    "y = 176.0\n",
    "\n",
    "# Prediction of the model for 1950:\n",
    "prediction = m * x + b\n",
    "print(\"Predicton for 1950:\", prediction)\n",
    "\n",
    "# Squared Error for 1950:\n",
    "error = (prediction - y) ** 2\n",
    "print(\"Error for 1950:\", error)\n",
    "errors = error"
   ]
  },
  {
   "cell_type": "code",
   "execution_count": 69,
   "metadata": {},
   "outputs": [
    {
     "name": "stdout",
     "output_type": "stream",
     "text": [
      "Predicton for 1960: 176.89999999999418\n",
      "Error for 1960: 3.3947524650918934e-23\n"
     ]
    }
   ],
   "source": [
    "# Example: Calculate the error for 1960\n",
    "m = slope_algo(1960,1970,176.9,177.1)\n",
    "b = height_model_algorithm(m, 1960,176.9)\n",
    "\n",
    "# For the data point about 1960:\n",
    "x = 1960\n",
    "y = 176.9\n",
    "\n",
    "# Prediction of the model for 1960:\n",
    "prediction6 = m * x + b\n",
    "print(\"Predicton for 1960:\", prediction6)\n",
    "\n",
    "# Squared Error for 1960:\n",
    "error6 = (prediction6 - y) ** 2\n",
    "print(\"Error for 1960:\", error6)\n",
    "errors = error6"
   ]
  },
  {
   "cell_type": "code",
   "execution_count": 70,
   "metadata": {},
   "outputs": [
    {
     "name": "stdout",
     "output_type": "stream",
     "text": [
      "Predicton for 1970: 177.10000000000582\n",
      "Error for 1970: 3.3947524650918934e-23\n"
     ]
    }
   ],
   "source": [
    "# Example: Calculate the error for 1970\n",
    "m = slope_algo(1970,1980,177.1,176.8)\n",
    "b = height_model_algorithm(m, 1970,177.1)\n",
    "\n",
    "# For the data point about 1970:\n",
    "x = 1970\n",
    "y = 177.1\n",
    "\n",
    "# Prediction of the model for 1970:\n",
    "prediction7 = m * x + b\n",
    "print(\"Predicton for 1970:\", prediction7)\n",
    "\n",
    "# Squared Error for 1970:\n",
    "error7 = (prediction7 - y) ** 2\n",
    "print(\"Error for 1970:\", error7)\n",
    "errors = error7"
   ]
  },
  {
   "cell_type": "code",
   "execution_count": 82,
   "metadata": {},
   "outputs": [
    {
     "name": "stdout",
     "output_type": "stream",
     "text": [
      "Predicton for 1980: 176.8000000000029\n",
      "Error for 1980: 8.404284270509473e-24\n"
     ]
    }
   ],
   "source": [
    "# Example: Calculate the error for 1980\n",
    "m = slope_algo(1980,1990,176.8,177.1)\n",
    "b = height_model_algorithm(m, 1980,176.8)\n",
    "\n",
    "# For the data point about 1980:\n",
    "x = 1980\n",
    "y = 176.8\n",
    "\n",
    "# Prediction of the model for 1980:\n",
    "prediction8 = m * x + b\n",
    "print(\"Predicton for 1980:\", prediction8)\n",
    "\n",
    "# Squared Error for 1980:\n",
    "error8 = (prediction8 - y) ** 2\n",
    "print(\"Error for 1980:\", error8)\n",
    "errors = error8"
   ]
  },
  {
   "cell_type": "code",
   "execution_count": 89,
   "metadata": {},
   "outputs": [
    {
     "name": "stdout",
     "output_type": "stream",
     "text": [
      "[1.3651711281392742e-25, 0.010000000001164154, 0.0, 2.101071067627368e-24, 2.101071067627368e-24, 0.0, 3.3947524650918934e-23, 8.404284270509473e-24, 1.8636922091050586e-50, 0.00010000000002328308, 0.0, 4.4144996312208086e-48, 4.4144996312208086e-48, 0.0, 1.1524344299247487e-45, 7.063199409953294e-47, 3.4733486502788934e-100]\n",
      "0.0005941176471286727\n"
     ]
    }
   ],
   "source": [
    "\n",
    "\n",
    "data.index\n",
    "\n",
    "errors = [1.3651711281392742e-25,0.010000000001164154,0.0,2.101071067627368e-24,2.101071067627368e-24,0.0,3.3947524650918934e-23,8.404284270509473e-24]\n",
    "year = 0\n",
    "for year in range(len(data.index)):\n",
    "    # Calculate the squared error for that year\n",
    "    # error = ???\n",
    "    error = errors[year] ** 2\n",
    "    \n",
    "\n",
    "    # append the error to the errors list\n",
    "    errors.append(error)\n",
    "\n",
    "# Now you should have a list of errors.\n",
    "print(errors)\n",
    "\n",
    "# Calculate the mean squared error, use np.mean() function\n",
    "print(np.mean(errors))"
   ]
  },
  {
   "cell_type": "code",
   "execution_count": null,
   "metadata": {},
   "outputs": [],
   "source": []
  }
 ],
 "metadata": {
  "kernelspec": {
   "display_name": "Python 3",
   "language": "python",
   "name": "python3"
  },
  "language_info": {
   "codemirror_mode": {
    "name": "ipython",
    "version": 3
   },
   "file_extension": ".py",
   "mimetype": "text/x-python",
   "name": "python",
   "nbconvert_exporter": "python",
   "pygments_lexer": "ipython3",
   "version": "3.7.5"
  }
 },
 "nbformat": 4,
 "nbformat_minor": 2
}
