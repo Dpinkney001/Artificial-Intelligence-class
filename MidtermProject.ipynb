{
 "cells": [
  {
   "cell_type": "markdown",
   "metadata": {
    "id": "laRpm7hK8pSi"
   },
   "source": [
    "# Artificial Intelligence Midterm Project\n",
    "\n",
    "In this project, you will build a regression model and a classification model from scratch. Please follow the instructions closely, and only use Python's Numpy, Pandas, and matplotlib library to complete this project. Using functions from `sklearn` is not allowed.\n",
    "\n",
    "**Part I** dues on Monday, March 22nd at 11:59 PM.\n",
    "**Part II** dues on Monday, April 12th at 11:59 PM."
   ]
  },
  {
   "cell_type": "code",
   "execution_count": 1,
   "metadata": {
    "id": "bo6dHwyJyEik"
   },
   "outputs": [],
   "source": [
    "import numpy as np\n",
    "import pandas as pd\n",
    "import matplotlib.pyplot as plt\n",
    "%matplotlib inline"
   ]
  },
  {
   "cell_type": "markdown",
   "metadata": {
    "id": "V4Jn_QfFyP08"
   },
   "source": [
    "## Part I: A Regression Model\n",
    "\n",
    "In this part, please build a multilinear regression model that extracts the relationship between housing prices and other relevant variables. The training data is shown in the table below:\n"
   ]
  },
  {
   "cell_type": "code",
   "execution_count": 2,
   "metadata": {
    "colab": {
     "base_uri": "https://localhost:8080/",
     "height": 202
    },
    "id": "goxKcZMU8uwh",
    "outputId": "650651f0-d886-4e23-d6bf-cb532feefeec"
   },
   "outputs": [
    {
     "data": {
      "text/html": [
       "<div>\n",
       "<style scoped>\n",
       "    .dataframe tbody tr th:only-of-type {\n",
       "        vertical-align: middle;\n",
       "    }\n",
       "\n",
       "    .dataframe tbody tr th {\n",
       "        vertical-align: top;\n",
       "    }\n",
       "\n",
       "    .dataframe thead th {\n",
       "        text-align: right;\n",
       "    }\n",
       "</style>\n",
       "<table border=\"1\" class=\"dataframe\">\n",
       "  <thead>\n",
       "    <tr style=\"text-align: right;\">\n",
       "      <th></th>\n",
       "      <th>YearBuilt</th>\n",
       "      <th>YearSold</th>\n",
       "      <th>Bedrooms</th>\n",
       "      <th>TotalArea</th>\n",
       "      <th>Quality</th>\n",
       "      <th>Price</th>\n",
       "    </tr>\n",
       "  </thead>\n",
       "  <tbody>\n",
       "    <tr>\n",
       "      <th>0</th>\n",
       "      <td>1974</td>\n",
       "      <td>2015</td>\n",
       "      <td>3</td>\n",
       "      <td>1500</td>\n",
       "      <td>7.5</td>\n",
       "      <td>358500</td>\n",
       "    </tr>\n",
       "    <tr>\n",
       "      <th>1</th>\n",
       "      <td>1996</td>\n",
       "      <td>2017</td>\n",
       "      <td>10</td>\n",
       "      <td>4000</td>\n",
       "      <td>6.0</td>\n",
       "      <td>452600</td>\n",
       "    </tr>\n",
       "    <tr>\n",
       "      <th>2</th>\n",
       "      <td>1968</td>\n",
       "      <td>2020</td>\n",
       "      <td>4</td>\n",
       "      <td>1700</td>\n",
       "      <td>4.0</td>\n",
       "      <td>352100</td>\n",
       "    </tr>\n",
       "    <tr>\n",
       "      <th>3</th>\n",
       "      <td>1962</td>\n",
       "      <td>2010</td>\n",
       "      <td>5</td>\n",
       "      <td>2500</td>\n",
       "      <td>5.5</td>\n",
       "      <td>341300</td>\n",
       "    </tr>\n",
       "    <tr>\n",
       "      <th>4</th>\n",
       "      <td>1960</td>\n",
       "      <td>2016</td>\n",
       "      <td>6</td>\n",
       "      <td>2000</td>\n",
       "      <td>5.0</td>\n",
       "      <td>342200</td>\n",
       "    </tr>\n",
       "  </tbody>\n",
       "</table>\n",
       "</div>"
      ],
      "text/plain": [
       "   YearBuilt  YearSold  Bedrooms  TotalArea  Quality   Price\n",
       "0       1974      2015         3       1500      7.5  358500\n",
       "1       1996      2017        10       4000      6.0  452600\n",
       "2       1968      2020         4       1700      4.0  352100\n",
       "3       1962      2010         5       2500      5.5  341300\n",
       "4       1960      2016         6       2000      5.0  342200"
      ]
     },
     "execution_count": 2,
     "metadata": {},
     "output_type": "execute_result"
    }
   ],
   "source": [
    "data1 = pd.DataFrame({\n",
    "    \"YearBuilt\": [1974, 1996, 1968, 1962, 1960],\n",
    "    \"YearSold\": [2015, 2017, 2020, 2010, 2016],\n",
    "    \"Bedrooms\": [3, 10, 4, 5, 6],\n",
    "    \"TotalArea\": [1500, 4000, 1700, 2500, 2000],\n",
    "    \"Quality\": [7.5, 6, 4, 5.5, 5],\n",
    "    \"Price\": [358500, 452600, 352100, 341300, 342200]\n",
    "})\n",
    "\n",
    "data1"
   ]
  },
  {
   "cell_type": "markdown",
   "metadata": {
    "id": "Yk67CJ87BqaU"
   },
   "source": [
    "### Task 1: Data Transformation (10 pts)\n",
    "Create a new column named \"Age\" that represents the age of each house when it was sold."
   ]
  },
  {
   "cell_type": "code",
   "execution_count": 3,
   "metadata": {
    "id": "cs9awohjBqMT"
   },
   "outputs": [],
   "source": [
    "# Your Code Here\n",
    "def ageOfHome(YearBuilt, YearSold):\n",
    "    return YearSold - YearBuilt\n",
    "\n",
    "\n",
    "\n"
   ]
  },
  {
   "cell_type": "code",
   "execution_count": 6,
   "metadata": {},
   "outputs": [
    {
     "data": {
      "text/plain": [
       "0    41\n",
       "1    21\n",
       "2    52\n",
       "3    48\n",
       "4    56\n",
       "Name: Age, dtype: int64"
      ]
     },
     "execution_count": 6,
     "metadata": {},
     "output_type": "execute_result"
    }
   ],
   "source": [
    "data1[\"Age\"] = ageOfHome(data1[\"YearBuilt\"], data1[\"YearSold\"])\n",
    "data1[\"Age\"]"
   ]
  },
  {
   "cell_type": "code",
   "execution_count": null,
   "metadata": {},
   "outputs": [],
   "source": []
  },
  {
   "cell_type": "markdown",
   "metadata": {
    "id": "kBzHY7sj-6P5"
   },
   "source": [
    "### Task 2: Train a Multilinear Model (20 pts)\n",
    "Assume that the price can be expressed as a linear combination of age, bedrooms, total area, and quality:\n",
    "\n",
    "$Price = \\theta_0 + \\theta_1 \\cdot Age + \\theta_2 \\cdot Bedrooms + \\theta_3 \\cdot TotalArea + \\theta_4 \\cdot Quality.$\n",
    "\n",
    "Apply the normal equation to find the best values for the parameters:\n",
    "1. Construct matrix $\\textbf{X}$ and $\\textbf{y}$ (the matrices are defined in Week 6 notebook and Chapter 4 of the textbook).\n",
    "2. Calculate the parameter vector using the normal equation\n",
    "$\\theta = \\big(\\textbf{X}^T\\cdot\\textbf{X}\\big)^{-1}\\cdot\\textbf{X}^T\\cdot\\textbf{y}$"
   ]
  },
  {
   "cell_type": "code",
   "execution_count": 15,
   "metadata": {},
   "outputs": [
    {
     "name": "stdout",
     "output_type": "stream",
     "text": [
      "[[1.0e+00 4.1e+01 3.0e+00 1.5e+03 7.5e+00]\n",
      " [1.0e+00 2.1e+01 1.0e+01 4.0e+03 6.0e+00]\n",
      " [1.0e+00 5.2e+01 4.0e+00 1.7e+03 4.0e+00]\n",
      " [1.0e+00 4.8e+01 5.0e+00 2.5e+03 5.5e+00]\n",
      " [1.0e+00 5.6e+01 6.0e+00 2.0e+03 5.0e+00]]\n",
      "_______________________________________________________________\n"
     ]
    }
   ],
   "source": [
    "# Construct X and y as numpy arrays\n",
    "X = np.hstack([np.ones([len(data1), 1]), data1[['Age', 'Bedrooms', 'TotalArea', 'Quality' ]].values])\n",
    "print(X)\n",
    "print(\"_______________________________________________________________\")\n",
    "\n",
    "\n"
   ]
  },
  {
   "cell_type": "code",
   "execution_count": 16,
   "metadata": {},
   "outputs": [
    {
     "name": "stdout",
     "output_type": "stream",
     "text": [
      "[[358500]\n",
      " [452600]\n",
      " [352100]\n",
      " [341300]\n",
      " [342200]]\n"
     ]
    }
   ],
   "source": [
    "y = data1[[\"Price\"]].values\n",
    "print(y)"
   ]
  },
  {
   "cell_type": "code",
   "execution_count": 17,
   "metadata": {},
   "outputs": [
    {
     "name": "stdout",
     "output_type": "stream",
     "text": [
      "[[ 5.92376387e+05]\n",
      " [-3.83925328e+03]\n",
      " [ 1.17271948e+04]\n",
      " [-3.11089808e+01]\n",
      " [-8.66468214e+03]]\n"
     ]
    }
   ],
   "source": [
    "theta = np.linalg.inv(X.T.dot(X)).dot(X.T).dot(y)\n",
    "print(theta)"
   ]
  },
  {
   "cell_type": "markdown",
   "metadata": {
    "id": "CYhiUFfuAVjM"
   },
   "source": [
    "### Task 3: Make A Prediction (10 pts)\n",
    "Suppose that there is another house with the following attribute:\n",
    "- YearBuilt: 1985\n",
    "- YearSold: 2021\n",
    "- Bedrooms: 6\n",
    "- Total Area: 2500\n",
    "- Quality: 5.5\n",
    "\n",
    "Use the parameter values that you have calculated to make a prediction on its sale price."
   ]
  },
  {
   "cell_type": "code",
   "execution_count": 19,
   "metadata": {
    "id": "RxMICEwzAVll"
   },
   "outputs": [
    {
     "name": "stdout",
     "output_type": "stream",
     "text": [
      "0    -4879.299698\n",
      "1   -12558.553773\n",
      "2    -5512.211993\n",
      "3    -7997.397748\n",
      "4    -6467.157674\n",
      "Name: Price, dtype: float64\n"
     ]
    }
   ],
   "source": [
    "# Your Code Here\n",
    "theta0 =  5.92376387\n",
    "theta1 = -3.83925328\n",
    "theta2 = 1.17271948\n",
    "theta3 = -3.11089808\n",
    "theta4 = -8.66468214\n",
    "\n",
    "data1[\"Price\"] = theta0 + theta1 * data1[\"Age\"] + theta2 * data1[\"Bedrooms\"] + theta3 * data1[\"TotalArea\"] + theta4 * data1[\"Quality\"]\n",
    "\n",
    "print(data1[\"Price\"])\n"
   ]
  },
  {
   "cell_type": "code",
   "execution_count": 18,
   "metadata": {},
   "outputs": [
    {
     "name": "stdout",
     "output_type": "stream",
     "text": [
      "-7950.1539891\n"
     ]
    }
   ],
   "source": [
    "theta0 =  5.92376387\n",
    "theta1 = -3.83925328\n",
    "theta2 = 1.17271948\n",
    "theta3 = -3.11089808\n",
    "theta4 = -8.66468214\n",
    "\n",
    "prediction = theta0 + theta1 * 36 + theta2 * 6 + theta3 * 2500 + theta4 * 5.5\n",
    "print(prediction)"
   ]
  },
  {
   "cell_type": "markdown",
   "metadata": {
    "id": "TESGJJp2AVoN"
   },
   "source": [
    "## Part II: A Classification Model\n",
    "\n",
    "In this part, we will build a logistic regression model and evaluate its performance on the classifying the data. The dataset is as follows:\n"
   ]
  },
  {
   "cell_type": "code",
   "execution_count": null,
   "metadata": {
    "colab": {
     "base_uri": "https://localhost:8080/",
     "height": 263
    },
    "id": "an34K0ecAVql",
    "outputId": "db36a89e-46a4-4648-f5d1-8c372eb8d27b"
   },
   "outputs": [
    {
     "data": {
      "text/html": [
       "<div>\n",
       "<style scoped>\n",
       "    .dataframe tbody tr th:only-of-type {\n",
       "        vertical-align: middle;\n",
       "    }\n",
       "\n",
       "    .dataframe tbody tr th {\n",
       "        vertical-align: top;\n",
       "    }\n",
       "\n",
       "    .dataframe thead th {\n",
       "        text-align: right;\n",
       "    }\n",
       "</style>\n",
       "<table border=\"1\" class=\"dataframe\">\n",
       "  <thead>\n",
       "    <tr style=\"text-align: right;\">\n",
       "      <th></th>\n",
       "      <th>x</th>\n",
       "      <th>y</th>\n",
       "      <th>class</th>\n",
       "    </tr>\n",
       "  </thead>\n",
       "  <tbody>\n",
       "    <tr>\n",
       "      <th>0</th>\n",
       "      <td>5.0</td>\n",
       "      <td>2.0</td>\n",
       "      <td>1</td>\n",
       "    </tr>\n",
       "    <tr>\n",
       "      <th>1</th>\n",
       "      <td>6.2</td>\n",
       "      <td>3.4</td>\n",
       "      <td>1</td>\n",
       "    </tr>\n",
       "    <tr>\n",
       "      <th>2</th>\n",
       "      <td>4.9</td>\n",
       "      <td>3.6</td>\n",
       "      <td>0</td>\n",
       "    </tr>\n",
       "    <tr>\n",
       "      <th>3</th>\n",
       "      <td>6.2</td>\n",
       "      <td>2.2</td>\n",
       "      <td>1</td>\n",
       "    </tr>\n",
       "    <tr>\n",
       "      <th>4</th>\n",
       "      <td>5.7</td>\n",
       "      <td>3.0</td>\n",
       "      <td>1</td>\n",
       "    </tr>\n",
       "    <tr>\n",
       "      <th>5</th>\n",
       "      <td>4.8</td>\n",
       "      <td>3.4</td>\n",
       "      <td>0</td>\n",
       "    </tr>\n",
       "    <tr>\n",
       "      <th>6</th>\n",
       "      <td>5.0</td>\n",
       "      <td>3.4</td>\n",
       "      <td>0</td>\n",
       "    </tr>\n",
       "  </tbody>\n",
       "</table>\n",
       "</div>"
      ],
      "text/plain": [
       "     x    y  class\n",
       "0  5.0  2.0      1\n",
       "1  6.2  3.4      1\n",
       "2  4.9  3.6      0\n",
       "3  6.2  2.2      1\n",
       "4  5.7  3.0      1\n",
       "5  4.8  3.4      0\n",
       "6  5.0  3.4      0"
      ]
     },
     "execution_count": 16,
     "metadata": {
      "tags": []
     },
     "output_type": "execute_result"
    }
   ],
   "source": [
    "data2 = pd.DataFrame([[5.0, 2.0, 1],\n",
    "                      [6.2, 3.4, 1],\n",
    "                      [4.9, 3.6, 0],\n",
    "                      [6.2, 2.2, 1],\n",
    "                      [5.7, 3.0, 1],\n",
    "                      [4.8, 3.4, 0],\n",
    "                      [5.0, 3.4, 0]],\n",
    "                     columns=[\"x1\", \"x2\", \"class\"])\n",
    "data2"
   ]
  },
  {
   "cell_type": "markdown",
   "metadata": {
    "id": "xSoBjGdmAVvj"
   },
   "source": [
    "### Task 1: Data Visualization (10 pts)\n",
    "Visualize the data as a scatter plot. Show class 0 records as green dots and class 1 records as blue dots. Display the following items:\n",
    "- Title of the plot: Distribution of the training data\n",
    "- Label for x axis: x1\n",
    "- Label for y axis: x2\n",
    "- Legend"
   ]
  },
  {
   "cell_type": "code",
   "execution_count": null,
   "metadata": {
    "id": "tJ3yYz2TEFtU"
   },
   "outputs": [],
   "source": [
    "# Your Code Here\n",
    "\n"
   ]
  },
  {
   "cell_type": "markdown",
   "metadata": {
    "id": "ci_icuTREOxj"
   },
   "source": [
    "### Task 2: Apply A Logistic Regression Model (10 pts)\n",
    "\n",
    "Suppose that you are given a logistic regression model with explicity paramter values:\n",
    "\n",
    "$p = \\sigma(\\textbf{x}\\cdot\\theta^T).$\n",
    "\n",
    "where\n",
    "- p: the probability that the point belongs to class 1.\n",
    "- $\\textbf{x} = (1, x_1, x_2)$.\n",
    "- $\\theta = (\\theta_0, \\theta_1, \\theta_2) = (-2.15, 0.92, -0.82)$.\n",
    "- $\\sigma(t) = \\frac{1}{1+e^{-t}}$\n",
    "\n",
    "Find the model's prediction on the following test set:"
   ]
  },
  {
   "cell_type": "code",
   "execution_count": null,
   "metadata": {
    "colab": {
     "base_uri": "https://localhost:8080/",
     "height": 171
    },
    "id": "7gOdAR4pGWOW",
    "outputId": "250d2704-3ec0-41db-cb70-4f51546fa1b7"
   },
   "outputs": [
    {
     "data": {
      "text/html": [
       "<div>\n",
       "<style scoped>\n",
       "    .dataframe tbody tr th:only-of-type {\n",
       "        vertical-align: middle;\n",
       "    }\n",
       "\n",
       "    .dataframe tbody tr th {\n",
       "        vertical-align: top;\n",
       "    }\n",
       "\n",
       "    .dataframe thead th {\n",
       "        text-align: right;\n",
       "    }\n",
       "</style>\n",
       "<table border=\"1\" class=\"dataframe\">\n",
       "  <thead>\n",
       "    <tr style=\"text-align: right;\">\n",
       "      <th></th>\n",
       "      <th>x1</th>\n",
       "      <th>x2</th>\n",
       "      <th>class</th>\n",
       "    </tr>\n",
       "  </thead>\n",
       "  <tbody>\n",
       "    <tr>\n",
       "      <th>0</th>\n",
       "      <td>5.1</td>\n",
       "      <td>3.4</td>\n",
       "      <td>0</td>\n",
       "    </tr>\n",
       "    <tr>\n",
       "      <th>1</th>\n",
       "      <td>6.5</td>\n",
       "      <td>2.8</td>\n",
       "      <td>1</td>\n",
       "    </tr>\n",
       "    <tr>\n",
       "      <th>2</th>\n",
       "      <td>5.8</td>\n",
       "      <td>2.7</td>\n",
       "      <td>1</td>\n",
       "    </tr>\n",
       "    <tr>\n",
       "      <th>3</th>\n",
       "      <td>4.6</td>\n",
       "      <td>3.1</td>\n",
       "      <td>0</td>\n",
       "    </tr>\n",
       "  </tbody>\n",
       "</table>\n",
       "</div>"
      ],
      "text/plain": [
       "    x1   x2  class\n",
       "0  5.1  3.4      0\n",
       "1  6.5  2.8      1\n",
       "2  5.8  2.7      1\n",
       "3  4.6  3.1      0"
      ]
     },
     "execution_count": 22,
     "metadata": {
      "tags": []
     },
     "output_type": "execute_result"
    }
   ],
   "source": [
    "data3 = pd.DataFrame([[5.1, 3.4, 0],\n",
    "                      [6.5, 2.8, 1],\n",
    "                      [5.8, 2.7, 1],\n",
    "                      [4.6, 3.1, 0]],\n",
    "                     columns=[\"x1\", \"x2\", \"class\"])\n",
    "data3"
   ]
  },
  {
   "cell_type": "markdown",
   "metadata": {
    "id": "HW5kVRygGo1j"
   },
   "source": [
    "### Task 3: Model Evaluation (40 pts)\n",
    "Calculate the following model metrics regarding the performance on the test set:\n",
    "- classification accuracy\n",
    "- precision score\n",
    "- recall score\n",
    "- F-1 score"
   ]
  },
  {
   "cell_type": "code",
   "execution_count": null,
   "metadata": {
    "id": "_cymkGXo-uRa"
   },
   "outputs": [],
   "source": [
    "# Classification Accuracy\n",
    "\n"
   ]
  },
  {
   "cell_type": "code",
   "execution_count": null,
   "metadata": {
    "id": "-RJyTLUgHYWO"
   },
   "outputs": [],
   "source": [
    "# Precision Score\n",
    "\n"
   ]
  },
  {
   "cell_type": "code",
   "execution_count": null,
   "metadata": {
    "id": "ADK-WMCrHZQA"
   },
   "outputs": [],
   "source": [
    "# Recall Score\n",
    "\n"
   ]
  },
  {
   "cell_type": "code",
   "execution_count": null,
   "metadata": {
    "id": "yp903_hxHaGk"
   },
   "outputs": [],
   "source": [
    "# F-1 Score\n",
    "\n"
   ]
  },
  {
   "cell_type": "code",
   "execution_count": null,
   "metadata": {
    "id": "rlUx3HoNHbIt"
   },
   "outputs": [],
   "source": []
  }
 ],
 "metadata": {
  "colab": {
   "name": "MidtermProject",
   "provenance": []
  },
  "kernelspec": {
   "display_name": "Python 3",
   "language": "python",
   "name": "python3"
  },
  "language_info": {
   "codemirror_mode": {
    "name": "ipython",
    "version": 3
   },
   "file_extension": ".py",
   "mimetype": "text/x-python",
   "name": "python",
   "nbconvert_exporter": "python",
   "pygments_lexer": "ipython3",
   "version": "3.7.5"
  }
 },
 "nbformat": 4,
 "nbformat_minor": 1
}
