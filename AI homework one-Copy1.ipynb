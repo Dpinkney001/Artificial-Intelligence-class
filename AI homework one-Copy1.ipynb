{
 "cells": [
  {
   "cell_type": "markdown",
   "metadata": {},
   "source": [
    "Duvall Pinkney homework number one \n",
    "13128408\n",
    "2/8/2021 spring 2021\n",
    "\n",
    "\n",
    "1900\t170\n",
    "1910\t172.1\n",
    "1920\t173.1\n",
    "1930\t173.4\n",
    "1940\t176.1\n",
    "1950\t177.1\n",
    "1960\t177.3\n",
    "1970\t178.3\n",
    "1980\t179\n",
    "\n",
    "\n",
    "The above table contains the average height for men in the United States between 1900 and 1980. (Source: https://ourworldindata.org/human-height)\n",
    "\n",
    "Write a Python program to convert the percent of the increase of men's height over each decade. For example, during 1900 - 1910 the average height has increased:\n",
    "\n",
    "(172.1 - 170) / 170 = 1.235%.\n",
    "\n",
    "Moreover, determine on during which 10 years has men's height increased the fastest.\n",
    "\n",
    "Create a notebook file with code and execution results showing the percentages and the decade of the fastest growth. Save the notebook as a PDF file. You need to submit the PDF file to Blackboard before the deadline to receive grades."
   ]
  },
  {
   "cell_type": "code",
   "execution_count": 1,
   "metadata": {},
   "outputs": [],
   "source": [
    "import matplotlib.pyplot as plt\n",
    "import pandas as pd\n",
    "import seaborn as sns\n",
    "# The following line is needed for some versions of Python and Jupyter Notebooks to display the plots in the notebook.\n",
    "%matplotlib inline"
   ]
  },
  {
   "cell_type": "code",
   "execution_count": 29,
   "metadata": {},
   "outputs": [],
   "source": [
    "def men_height(earlyHeight, laterHeight):\n",
    "    percentOfIncrease = (laterHeight - earlyHeight) / earlyHeight * 100\n",
    "    return percentOfIncrease\n",
    "    "
   ]
  },
  {
   "cell_type": "code",
   "execution_count": 3,
   "metadata": {},
   "outputs": [
    {
     "data": {
      "text/html": [
       "<div>\n",
       "<style scoped>\n",
       "    .dataframe tbody tr th:only-of-type {\n",
       "        vertical-align: middle;\n",
       "    }\n",
       "\n",
       "    .dataframe tbody tr th {\n",
       "        vertical-align: top;\n",
       "    }\n",
       "\n",
       "    .dataframe thead th {\n",
       "        text-align: right;\n",
       "    }\n",
       "</style>\n",
       "<table border=\"1\" class=\"dataframe\">\n",
       "  <thead>\n",
       "    <tr style=\"text-align: right;\">\n",
       "      <th></th>\n",
       "      <th>1900</th>\n",
       "      <th>170</th>\n",
       "    </tr>\n",
       "  </thead>\n",
       "  <tbody>\n",
       "    <tr>\n",
       "      <th>0</th>\n",
       "      <td>1910</td>\n",
       "      <td>172.1</td>\n",
       "    </tr>\n",
       "    <tr>\n",
       "      <th>1</th>\n",
       "      <td>1920</td>\n",
       "      <td>173.1</td>\n",
       "    </tr>\n",
       "    <tr>\n",
       "      <th>2</th>\n",
       "      <td>1930</td>\n",
       "      <td>173.4</td>\n",
       "    </tr>\n",
       "    <tr>\n",
       "      <th>3</th>\n",
       "      <td>1940</td>\n",
       "      <td>176.1</td>\n",
       "    </tr>\n",
       "    <tr>\n",
       "      <th>4</th>\n",
       "      <td>1950</td>\n",
       "      <td>177.1</td>\n",
       "    </tr>\n",
       "    <tr>\n",
       "      <th>5</th>\n",
       "      <td>1960</td>\n",
       "      <td>177.3</td>\n",
       "    </tr>\n",
       "    <tr>\n",
       "      <th>6</th>\n",
       "      <td>1970</td>\n",
       "      <td>178.3</td>\n",
       "    </tr>\n",
       "    <tr>\n",
       "      <th>7</th>\n",
       "      <td>1980</td>\n",
       "      <td>179.0</td>\n",
       "    </tr>\n",
       "  </tbody>\n",
       "</table>\n",
       "</div>"
      ],
      "text/plain": [
       "   1900    170\n",
       "0  1910  172.1\n",
       "1  1920  173.1\n",
       "2  1930  173.4\n",
       "3  1940  176.1\n",
       "4  1950  177.1\n",
       "5  1960  177.3\n",
       "6  1970  178.3\n",
       "7  1980  179.0"
      ]
     },
     "execution_count": 3,
     "metadata": {},
     "output_type": "execute_result"
    }
   ],
   "source": [
    "height_data = pd.read_csv(\"mensHeightdata.csv\")\n",
    "height_data"
   ]
  },
  {
   "cell_type": "code",
   "execution_count": 30,
   "metadata": {},
   "outputs": [
    {
     "name": "stdout",
     "output_type": "stream",
     "text": [
      "1900 - 1910 percentage of increase is: 1.2352941176470555\n"
     ]
    }
   ],
   "source": [
    "\n",
    "first_decade  = men_height(170,172.1)\n",
    "print(\"1900 - 1910 percentage of increase is:\", first_decade)\n",
    "\n"
   ]
  },
  {
   "cell_type": "code",
   "execution_count": 32,
   "metadata": {},
   "outputs": [
    {
     "name": "stdout",
     "output_type": "stream",
     "text": [
      "1910 - 1920 percentage of increase is: 0.5810575246949448\n"
     ]
    }
   ],
   "source": [
    "second_decade  = men_height(172.1,173.1)\n",
    "print(\"1910 - 1920 percentage of increase is:\", second_decade)"
   ]
  },
  {
   "cell_type": "code",
   "execution_count": 33,
   "metadata": {},
   "outputs": [
    {
     "name": "stdout",
     "output_type": "stream",
     "text": [
      "1920 - 1930 percentage of increase is: 0.17331022530329948\n"
     ]
    }
   ],
   "source": [
    "third_decade  = men_height(173.1,173.4)\n",
    "print(\"1920 - 1930 percentage of increase is:\", third_decade)"
   ]
  },
  {
   "cell_type": "code",
   "execution_count": 34,
   "metadata": {},
   "outputs": [
    {
     "name": "stdout",
     "output_type": "stream",
     "text": [
      "1930 - 1940 percentage of increase is: 1.5570934256055295\n"
     ]
    }
   ],
   "source": [
    "fourth_decade  = men_height(173.4,176.1)\n",
    "print(\"1930 - 1940 percentage of increase is:\", fourth_decade)"
   ]
  },
  {
   "cell_type": "code",
   "execution_count": 35,
   "metadata": {},
   "outputs": [
    {
     "name": "stdout",
     "output_type": "stream",
     "text": [
      "1940 - 1950 percentage of increase is: 0.5678591709256104\n"
     ]
    }
   ],
   "source": [
    "fifth_decade  = men_height(176.1,177.1)\n",
    "print(\"1940 - 1950 percentage of increase is:\", fifth_decade)"
   ]
  },
  {
   "cell_type": "code",
   "execution_count": 36,
   "metadata": {},
   "outputs": [
    {
     "name": "stdout",
     "output_type": "stream",
     "text": [
      "1950 - 1960 percentage of increase is: 0.11293054771316605\n"
     ]
    }
   ],
   "source": [
    "sixth_decade  = men_height(177.1,177.3)\n",
    "print(\"1950 - 1960 percentage of increase is:\", sixth_decade)"
   ]
  },
  {
   "cell_type": "code",
   "execution_count": 37,
   "metadata": {},
   "outputs": [
    {
     "name": "stdout",
     "output_type": "stream",
     "text": [
      "1960 - 1970 percentage of increase is: 0.5640157924421884\n"
     ]
    }
   ],
   "source": [
    "seventh_decade  = men_height(177.3,178.3)\n",
    "print(\"1960 - 1970 percentage of increase is:\", seventh_decade)"
   ]
  },
  {
   "cell_type": "code",
   "execution_count": 38,
   "metadata": {},
   "outputs": [
    {
     "name": "stdout",
     "output_type": "stream",
     "text": [
      "1970 - 1980 percentage of increase is: 0.39259674705551795\n"
     ]
    }
   ],
   "source": [
    "eighth_decade  = men_height(178.3,179.0)\n",
    "print(\"1970 - 1980 percentage of increase is:\", eighth_decade)"
   ]
  },
  {
   "cell_type": "markdown",
   "metadata": {},
   "source": [
    "1930 - 1940 percentage of increase is: 1.5570934256055295\n",
    "this increased the most."
   ]
  }
 ],
 "metadata": {
  "kernelspec": {
   "display_name": "Python 3",
   "language": "python",
   "name": "python3"
  },
  "language_info": {
   "codemirror_mode": {
    "name": "ipython",
    "version": 3
   },
   "file_extension": ".py",
   "mimetype": "text/x-python",
   "name": "python",
   "nbconvert_exporter": "python",
   "pygments_lexer": "ipython3",
   "version": "3.7.5"
  }
 },
 "nbformat": 4,
 "nbformat_minor": 2
}
